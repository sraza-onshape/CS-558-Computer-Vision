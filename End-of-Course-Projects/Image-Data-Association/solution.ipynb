{
 "cells": [
  {
   "cell_type": "markdown",
   "metadata": {},
   "source": [
    "# Image Data Association"
   ]
  },
  {
   "cell_type": "code",
   "execution_count": 23,
   "metadata": {},
   "outputs": [
    {
     "name": "stdout",
     "output_type": "stream",
     "text": [
      "The autoreload extension is already loaded. To reload it, use:\n",
      "  %reload_ext autoreload\n"
     ]
    }
   ],
   "source": [
    "# optional: allow Jupyter to \"hot reload\" the Python modules I wrote, to avoid restarting the kernel after every change\n",
    "%load_ext autoreload\n",
    "%autoreload 2"
   ]
  },
  {
   "cell_type": "markdown",
   "metadata": {},
   "source": [
    "## Part A: Formulating the Dataset\n",
    "\n",
    "Note: the cells below do NOT need to be rerun!"
   ]
  },
  {
   "cell_type": "markdown",
   "metadata": {},
   "source": [
    "### Downloading the Entire Dataset"
   ]
  },
  {
   "cell_type": "code",
   "execution_count": 1,
   "metadata": {},
   "outputs": [
    {
     "name": "stdout",
     "output_type": "stream",
     "text": [
      "mkdir: ./Data: File exists\n"
     ]
    }
   ],
   "source": [
    "! mkdir ./Data"
   ]
  },
  {
   "cell_type": "code",
   "execution_count": 2,
   "metadata": {},
   "outputs": [
    {
     "name": "stdout",
     "output_type": "stream",
     "text": [
      "Cloning into 'SfM_quality_evaluation'...\n"
     ]
    },
    {
     "name": "stdout",
     "output_type": "stream",
     "text": [
      "remote: Enumerating objects: 237, done.\u001b[K\n",
      "remote: Total 237 (delta 0), reused 0 (delta 0), pack-reused 237\u001b[K\n",
      "Receiving objects: 100% (237/237), 254.31 MiB | 13.61 MiB/s, done.\n",
      "Resolving deltas: 100% (9/9), done.\n",
      "Updating files: 100% (214/214), done.\n"
     ]
    }
   ],
   "source": [
    "! git clone https://github.com/openMVG/SfM_quality_evaluation.git "
   ]
  },
  {
   "cell_type": "markdown",
   "metadata": {},
   "source": [
    "### Aggregating the Images\n",
    "\n",
    "We only care about the `images/` directories in the following subsets of the data:\n",
    "- `fountain-P11`\n",
    "- `Herz-Jesus-P8`\n",
    "- `entry-P10`"
   ]
  },
  {
   "cell_type": "code",
   "execution_count": 4,
   "metadata": {},
   "outputs": [],
   "source": [
    "import glob"
   ]
  },
  {
   "cell_type": "code",
   "execution_count": 15,
   "metadata": {},
   "outputs": [],
   "source": [
    "BASE_DATA_PATH = \"./SfM_quality_evaluation/Benchmarking_Camera_Calibration_2008\"\n",
    "subset_names = [\"entry-P10\", \"Herz-Jesus-P8\", \"fountain-P11\"]\n",
    "file_ext_pattern = \"*.jpg\""
   ]
  },
  {
   "cell_type": "code",
   "execution_count": 18,
   "metadata": {},
   "outputs": [
    {
     "name": "stdout",
     "output_type": "stream",
     "text": [
      "['./SfM_quality_evaluation/Benchmarking_Camera_Calibration_2008/entry-P10/images/0006.jpg', './SfM_quality_evaluation/Benchmarking_Camera_Calibration_2008/entry-P10/images/0007.jpg', './SfM_quality_evaluation/Benchmarking_Camera_Calibration_2008/entry-P10/images/0005.jpg', './SfM_quality_evaluation/Benchmarking_Camera_Calibration_2008/entry-P10/images/0004.jpg', './SfM_quality_evaluation/Benchmarking_Camera_Calibration_2008/entry-P10/images/0000.jpg', './SfM_quality_evaluation/Benchmarking_Camera_Calibration_2008/entry-P10/images/0001.jpg', './SfM_quality_evaluation/Benchmarking_Camera_Calibration_2008/entry-P10/images/0003.jpg', './SfM_quality_evaluation/Benchmarking_Camera_Calibration_2008/entry-P10/images/0002.jpg', './SfM_quality_evaluation/Benchmarking_Camera_Calibration_2008/entry-P10/images/0009.jpg', './SfM_quality_evaluation/Benchmarking_Camera_Calibration_2008/entry-P10/images/0008.jpg', './SfM_quality_evaluation/Benchmarking_Camera_Calibration_2008/Herz-Jesus-P8/images/0006.jpg', './SfM_quality_evaluation/Benchmarking_Camera_Calibration_2008/Herz-Jesus-P8/images/0007.jpg', './SfM_quality_evaluation/Benchmarking_Camera_Calibration_2008/Herz-Jesus-P8/images/0005.jpg', './SfM_quality_evaluation/Benchmarking_Camera_Calibration_2008/Herz-Jesus-P8/images/0004.jpg', './SfM_quality_evaluation/Benchmarking_Camera_Calibration_2008/Herz-Jesus-P8/images/0000.jpg', './SfM_quality_evaluation/Benchmarking_Camera_Calibration_2008/Herz-Jesus-P8/images/0001.jpg', './SfM_quality_evaluation/Benchmarking_Camera_Calibration_2008/Herz-Jesus-P8/images/0003.jpg', './SfM_quality_evaluation/Benchmarking_Camera_Calibration_2008/Herz-Jesus-P8/images/0002.jpg', './SfM_quality_evaluation/Benchmarking_Camera_Calibration_2008/fountain-P11/images/0006.jpg', './SfM_quality_evaluation/Benchmarking_Camera_Calibration_2008/fountain-P11/images/0007.jpg', './SfM_quality_evaluation/Benchmarking_Camera_Calibration_2008/fountain-P11/images/0005.jpg', './SfM_quality_evaluation/Benchmarking_Camera_Calibration_2008/fountain-P11/images/0010.jpg', './SfM_quality_evaluation/Benchmarking_Camera_Calibration_2008/fountain-P11/images/0004.jpg', './SfM_quality_evaluation/Benchmarking_Camera_Calibration_2008/fountain-P11/images/0000.jpg', './SfM_quality_evaluation/Benchmarking_Camera_Calibration_2008/fountain-P11/images/0001.jpg', './SfM_quality_evaluation/Benchmarking_Camera_Calibration_2008/fountain-P11/images/0003.jpg', './SfM_quality_evaluation/Benchmarking_Camera_Calibration_2008/fountain-P11/images/0002.jpg', './SfM_quality_evaluation/Benchmarking_Camera_Calibration_2008/fountain-P11/images/0009.jpg', './SfM_quality_evaluation/Benchmarking_Camera_Calibration_2008/fountain-P11/images/0008.jpg']\n"
     ]
    }
   ],
   "source": [
    "all_img_paths = list()\n",
    "\n",
    "for subset in subset_names:\n",
    "    pattern_for_subset_images = \"/\".join(\n",
    "        [BASE_DATA_PATH, subset, \"images\", file_ext_pattern]\n",
    "    )\n",
    "    all_img_paths.extend(glob.glob(pattern_for_subset_images))\n",
    "\n",
    "print(all_img_paths)"
   ]
  },
  {
   "cell_type": "markdown",
   "metadata": {},
   "source": [
    "Sweet. Lastly, we can load all these images into memory for further processing:"
   ]
  },
  {
   "cell_type": "code",
   "execution_count": 21,
   "metadata": {},
   "outputs": [],
   "source": [
    "from util import ops"
   ]
  },
  {
   "cell_type": "code",
   "execution_count": 22,
   "metadata": {},
   "outputs": [
    {
     "name": "stdout",
     "output_type": "stream",
     "text": [
      "Dimensions of ./SfM_quality_evaluation/Benchmarking_Camera_Calibration_2008/entry-P10/images/0006.jpg: 2048 x 3072 x 3\n",
      "Dimensions of ./SfM_quality_evaluation/Benchmarking_Camera_Calibration_2008/entry-P10/images/0007.jpg: 2048 x 3072 x 3\n",
      "Dimensions of ./SfM_quality_evaluation/Benchmarking_Camera_Calibration_2008/entry-P10/images/0005.jpg: 2048 x 3072 x 3\n",
      "Dimensions of ./SfM_quality_evaluation/Benchmarking_Camera_Calibration_2008/entry-P10/images/0004.jpg: 2048 x 3072 x 3\n",
      "Dimensions of ./SfM_quality_evaluation/Benchmarking_Camera_Calibration_2008/entry-P10/images/0000.jpg: 2048 x 3072 x 3\n",
      "Dimensions of ./SfM_quality_evaluation/Benchmarking_Camera_Calibration_2008/entry-P10/images/0001.jpg: 2048 x 3072 x 3\n",
      "Dimensions of ./SfM_quality_evaluation/Benchmarking_Camera_Calibration_2008/entry-P10/images/0003.jpg: 2048 x 3072 x 3\n",
      "Dimensions of ./SfM_quality_evaluation/Benchmarking_Camera_Calibration_2008/entry-P10/images/0002.jpg: 2048 x 3072 x 3\n",
      "Dimensions of ./SfM_quality_evaluation/Benchmarking_Camera_Calibration_2008/entry-P10/images/0009.jpg: 2048 x 3072 x 3\n",
      "Dimensions of ./SfM_quality_evaluation/Benchmarking_Camera_Calibration_2008/entry-P10/images/0008.jpg: 2048 x 3072 x 3\n",
      "Dimensions of ./SfM_quality_evaluation/Benchmarking_Camera_Calibration_2008/Herz-Jesus-P8/images/0006.jpg: 2048 x 3072 x 3\n",
      "Dimensions of ./SfM_quality_evaluation/Benchmarking_Camera_Calibration_2008/Herz-Jesus-P8/images/0007.jpg: 2048 x 3072 x 3\n",
      "Dimensions of ./SfM_quality_evaluation/Benchmarking_Camera_Calibration_2008/Herz-Jesus-P8/images/0005.jpg: 2048 x 3072 x 3\n",
      "Dimensions of ./SfM_quality_evaluation/Benchmarking_Camera_Calibration_2008/Herz-Jesus-P8/images/0004.jpg: 2048 x 3072 x 3\n",
      "Dimensions of ./SfM_quality_evaluation/Benchmarking_Camera_Calibration_2008/Herz-Jesus-P8/images/0000.jpg: 2048 x 3072 x 3\n",
      "Dimensions of ./SfM_quality_evaluation/Benchmarking_Camera_Calibration_2008/Herz-Jesus-P8/images/0001.jpg: 2048 x 3072 x 3\n",
      "Dimensions of ./SfM_quality_evaluation/Benchmarking_Camera_Calibration_2008/Herz-Jesus-P8/images/0003.jpg: 2048 x 3072 x 3\n",
      "Dimensions of ./SfM_quality_evaluation/Benchmarking_Camera_Calibration_2008/Herz-Jesus-P8/images/0002.jpg: 2048 x 3072 x 3\n",
      "Dimensions of ./SfM_quality_evaluation/Benchmarking_Camera_Calibration_2008/fountain-P11/images/0006.jpg: 2048 x 3072 x 3\n",
      "Dimensions of ./SfM_quality_evaluation/Benchmarking_Camera_Calibration_2008/fountain-P11/images/0007.jpg: 2048 x 3072 x 3\n",
      "Dimensions of ./SfM_quality_evaluation/Benchmarking_Camera_Calibration_2008/fountain-P11/images/0005.jpg: 2048 x 3072 x 3\n",
      "Dimensions of ./SfM_quality_evaluation/Benchmarking_Camera_Calibration_2008/fountain-P11/images/0010.jpg: 2048 x 3072 x 3\n",
      "Dimensions of ./SfM_quality_evaluation/Benchmarking_Camera_Calibration_2008/fountain-P11/images/0004.jpg: 2048 x 3072 x 3\n",
      "Dimensions of ./SfM_quality_evaluation/Benchmarking_Camera_Calibration_2008/fountain-P11/images/0000.jpg: 2048 x 3072 x 3\n",
      "Dimensions of ./SfM_quality_evaluation/Benchmarking_Camera_Calibration_2008/fountain-P11/images/0001.jpg: 2048 x 3072 x 3\n",
      "Dimensions of ./SfM_quality_evaluation/Benchmarking_Camera_Calibration_2008/fountain-P11/images/0003.jpg: 2048 x 3072 x 3\n",
      "Dimensions of ./SfM_quality_evaluation/Benchmarking_Camera_Calibration_2008/fountain-P11/images/0002.jpg: 2048 x 3072 x 3\n",
      "Dimensions of ./SfM_quality_evaluation/Benchmarking_Camera_Calibration_2008/fountain-P11/images/0009.jpg: 2048 x 3072 x 3\n",
      "Dimensions of ./SfM_quality_evaluation/Benchmarking_Camera_Calibration_2008/fountain-P11/images/0008.jpg: 2048 x 3072 x 3\n"
     ]
    }
   ],
   "source": [
    "all_img_arrays = [\n",
    "    ops.load_image(img_path, return_grayscale=False, return_array=True)\n",
    "    for img_path in all_img_paths\n",
    "]\n",
    "\n",
    "all_imgs = dict(zip(all_img_paths, all_img_arrays))"
   ]
  },
  {
   "cell_type": "markdown",
   "metadata": {},
   "source": [
    "## Part B: Extract Global Descriptors\n",
    "\n",
    "I will choose to extract a GIST descriptor for each image. I will elect to keep all the images in their current size (since they're already all the same dimensions).\n",
    "\n",
    "We'll continue based on the assumption that color matters in this scenario. Therefore, for each image I'll compute the GIST descriptor separately for each color channel, before concatenating them altogether at the end."
   ]
  },
  {
   "cell_type": "code",
   "execution_count": 31,
   "metadata": {},
   "outputs": [
    {
     "ename": "ImportError",
     "evalue": "cannot import name 'gist' from 'gist' (/Applications/anaconda3/lib/python3.9/site-packages/gist/__init__.py)",
     "output_type": "error",
     "traceback": [
      "\u001b[0;31m---------------------------------------------------------------------------\u001b[0m",
      "\u001b[0;31mImportError\u001b[0m                               Traceback (most recent call last)",
      "\u001b[0;32m/var/folders/n0/3kqw7k395kb6swksbngs7zw40000gn/T/ipykernel_33998/1862167882.py\u001b[0m in \u001b[0;36m<module>\u001b[0;34m\u001b[0m\n\u001b[0;32m----> 1\u001b[0;31m \u001b[0;32mfrom\u001b[0m \u001b[0mgist\u001b[0m \u001b[0;32mimport\u001b[0m \u001b[0mgist\u001b[0m\u001b[0;34m\u001b[0m\u001b[0;34m\u001b[0m\u001b[0m\n\u001b[0m\u001b[1;32m      2\u001b[0m \u001b[0;32mimport\u001b[0m \u001b[0mnumpy\u001b[0m \u001b[0;32mas\u001b[0m \u001b[0mnp\u001b[0m\u001b[0;34m\u001b[0m\u001b[0;34m\u001b[0m\u001b[0m\n\u001b[1;32m      3\u001b[0m \u001b[0;34m\u001b[0m\u001b[0m\n\u001b[1;32m      4\u001b[0m \u001b[0;34m\u001b[0m\u001b[0m\n\u001b[1;32m      5\u001b[0m \u001b[0;32mdef\u001b[0m \u001b[0mcompute_gist_descriptor\u001b[0m\u001b[0;34m(\u001b[0m\u001b[0mimg\u001b[0m\u001b[0;34m:\u001b[0m \u001b[0mnp\u001b[0m\u001b[0;34m.\u001b[0m\u001b[0mndarray\u001b[0m\u001b[0;34m)\u001b[0m \u001b[0;34m->\u001b[0m \u001b[0mnp\u001b[0m\u001b[0;34m.\u001b[0m\u001b[0mndarray\u001b[0m\u001b[0;34m:\u001b[0m\u001b[0;34m\u001b[0m\u001b[0;34m\u001b[0m\u001b[0m\n",
      "\u001b[0;31mImportError\u001b[0m: cannot import name 'gist' from 'gist' (/Applications/anaconda3/lib/python3.9/site-packages/gist/__init__.py)"
     ]
    }
   ],
   "source": [
    "from gist import gist\n",
    "import numpy as np\n",
    "\n",
    "\n",
    "def compute_gist_descriptor(img: np.ndarray) -> np.ndarray:\n",
    "    \"\"\"Compute GIST descriptors for each color channel, return as a single feature vector in 1 row\"\"\"\n",
    "    descriptors = []\n",
    "    for channel in np.arange(img.shape[-1]):\n",
    "        channel_gist = gist(img[:, :, channel])\n",
    "        descriptors.extend(channel_gist)\n",
    "\n",
    "    return np.array(descriptors)"
   ]
  },
  {
   "cell_type": "code",
   "execution_count": 32,
   "metadata": {},
   "outputs": [
    {
     "ename": "AttributeError",
     "evalue": "module 'gist' has no attribute 'gist_descriptor'",
     "output_type": "error",
     "traceback": [
      "\u001b[0;31m---------------------------------------------------------------------------\u001b[0m",
      "\u001b[0;31mAttributeError\u001b[0m                            Traceback (most recent call last)",
      "\u001b[0;32m/var/folders/n0/3kqw7k395kb6swksbngs7zw40000gn/T/ipykernel_33998/2976204348.py\u001b[0m in \u001b[0;36m<module>\u001b[0;34m\u001b[0m\n\u001b[0;32m----> 1\u001b[0;31m all_img_descriptors = [\n\u001b[0m\u001b[1;32m      2\u001b[0m     \u001b[0mcompute_gist_descriptor\u001b[0m\u001b[0;34m(\u001b[0m\u001b[0mimg\u001b[0m\u001b[0;34m)\u001b[0m \u001b[0;32mfor\u001b[0m \u001b[0mimg\u001b[0m \u001b[0;32min\u001b[0m \u001b[0mall_img_arrays\u001b[0m\u001b[0;34m\u001b[0m\u001b[0;34m\u001b[0m\u001b[0m\n\u001b[1;32m      3\u001b[0m ]\n",
      "\u001b[0;32m/var/folders/n0/3kqw7k395kb6swksbngs7zw40000gn/T/ipykernel_33998/2976204348.py\u001b[0m in \u001b[0;36m<listcomp>\u001b[0;34m(.0)\u001b[0m\n\u001b[1;32m      1\u001b[0m all_img_descriptors = [\n\u001b[0;32m----> 2\u001b[0;31m     \u001b[0mcompute_gist_descriptor\u001b[0m\u001b[0;34m(\u001b[0m\u001b[0mimg\u001b[0m\u001b[0;34m)\u001b[0m \u001b[0;32mfor\u001b[0m \u001b[0mimg\u001b[0m \u001b[0;32min\u001b[0m \u001b[0mall_img_arrays\u001b[0m\u001b[0;34m\u001b[0m\u001b[0;34m\u001b[0m\u001b[0m\n\u001b[0m\u001b[1;32m      3\u001b[0m ]\n",
      "\u001b[0;32m/var/folders/n0/3kqw7k395kb6swksbngs7zw40000gn/T/ipykernel_33998/3067008872.py\u001b[0m in \u001b[0;36mcompute_gist_descriptor\u001b[0;34m(img)\u001b[0m\n\u001b[1;32m      7\u001b[0m     \u001b[0mdescriptors\u001b[0m \u001b[0;34m=\u001b[0m \u001b[0;34m[\u001b[0m\u001b[0;34m]\u001b[0m\u001b[0;34m\u001b[0m\u001b[0;34m\u001b[0m\u001b[0m\n\u001b[1;32m      8\u001b[0m     \u001b[0;32mfor\u001b[0m \u001b[0mchannel\u001b[0m \u001b[0;32min\u001b[0m \u001b[0mnp\u001b[0m\u001b[0;34m.\u001b[0m\u001b[0marange\u001b[0m\u001b[0;34m(\u001b[0m\u001b[0mimg\u001b[0m\u001b[0;34m.\u001b[0m\u001b[0mshape\u001b[0m\u001b[0;34m[\u001b[0m\u001b[0;34m-\u001b[0m\u001b[0;36m1\u001b[0m\u001b[0;34m]\u001b[0m\u001b[0;34m)\u001b[0m\u001b[0;34m:\u001b[0m\u001b[0;34m\u001b[0m\u001b[0;34m\u001b[0m\u001b[0m\n\u001b[0;32m----> 9\u001b[0;31m         \u001b[0mchannel_gist\u001b[0m \u001b[0;34m=\u001b[0m \u001b[0mgist\u001b[0m\u001b[0;34m.\u001b[0m\u001b[0mgist_descriptor\u001b[0m\u001b[0;34m(\u001b[0m\u001b[0mimg\u001b[0m\u001b[0;34m[\u001b[0m\u001b[0;34m:\u001b[0m\u001b[0;34m,\u001b[0m \u001b[0;34m:\u001b[0m\u001b[0;34m,\u001b[0m \u001b[0mchannel\u001b[0m\u001b[0;34m]\u001b[0m\u001b[0;34m)\u001b[0m\u001b[0;34m\u001b[0m\u001b[0;34m\u001b[0m\u001b[0m\n\u001b[0m\u001b[1;32m     10\u001b[0m         \u001b[0mdescriptors\u001b[0m\u001b[0;34m.\u001b[0m\u001b[0mextend\u001b[0m\u001b[0;34m(\u001b[0m\u001b[0mchannel_gist\u001b[0m\u001b[0;34m)\u001b[0m\u001b[0;34m\u001b[0m\u001b[0;34m\u001b[0m\u001b[0m\n\u001b[1;32m     11\u001b[0m \u001b[0;34m\u001b[0m\u001b[0m\n",
      "\u001b[0;31mAttributeError\u001b[0m: module 'gist' has no attribute 'gist_descriptor'"
     ]
    }
   ],
   "source": [
    "all_img_descriptors = [\n",
    "    compute_gist_descriptor(img) for img in all_img_arrays\n",
    "]"
   ]
  },
  {
   "cell_type": "code",
   "execution_count": null,
   "metadata": {},
   "outputs": [],
   "source": []
  }
 ],
 "metadata": {
  "kernelspec": {
   "display_name": "env-558",
   "language": "python",
   "name": "env-558"
  },
  "language_info": {
   "codemirror_mode": {
    "name": "ipython",
    "version": 3
   },
   "file_extension": ".py",
   "mimetype": "text/x-python",
   "name": "python",
   "nbconvert_exporter": "python",
   "pygments_lexer": "ipython3",
   "version": "3.9.7"
  }
 },
 "nbformat": 4,
 "nbformat_minor": 2
}
