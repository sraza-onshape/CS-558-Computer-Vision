{
 "cells": [
  {
   "cell_type": "markdown",
   "metadata": {},
   "source": [
    "# Image Data Association"
   ]
  },
  {
   "cell_type": "code",
   "execution_count": 7,
   "metadata": {},
   "outputs": [
    {
     "name": "stdout",
     "output_type": "stream",
     "text": [
      "The autoreload extension is already loaded. To reload it, use:\n",
      "  %reload_ext autoreload\n"
     ]
    }
   ],
   "source": [
    "# optional: allow Jupyter to \"hot reload\" the Python modules I wrote, to avoid restarting the kernel after every change\n",
    "%load_ext autoreload\n",
    "%autoreload 2"
   ]
  },
  {
   "cell_type": "markdown",
   "metadata": {},
   "source": [
    "## Part A: Formulating the Dataset\n",
    "\n",
    "Note: the cells below do NOT need to be rerun!"
   ]
  },
  {
   "cell_type": "markdown",
   "metadata": {},
   "source": [
    "### Downloading the Entire Dataset"
   ]
  },
  {
   "cell_type": "code",
   "execution_count": 2,
   "metadata": {},
   "outputs": [
    {
     "name": "stdout",
     "output_type": "stream",
     "text": [
      "mkdir: ./Data: File exists\n"
     ]
    }
   ],
   "source": [
    "! mkdir ./Data"
   ]
  },
  {
   "cell_type": "code",
   "execution_count": 2,
   "metadata": {},
   "outputs": [
    {
     "name": "stdout",
     "output_type": "stream",
     "text": [
      "Cloning into 'SfM_quality_evaluation'...\n"
     ]
    },
    {
     "name": "stdout",
     "output_type": "stream",
     "text": [
      "remote: Enumerating objects: 237, done.\u001b[K\n",
      "remote: Total 237 (delta 0), reused 0 (delta 0), pack-reused 237\u001b[K\n",
      "Receiving objects: 100% (237/237), 254.31 MiB | 13.61 MiB/s, done.\n",
      "Resolving deltas: 100% (9/9), done.\n",
      "Updating files: 100% (214/214), done.\n"
     ]
    }
   ],
   "source": [
    "! git clone https://github.com/openMVG/SfM_quality_evaluation.git "
   ]
  },
  {
   "cell_type": "markdown",
   "metadata": {},
   "source": [
    "### Aggregating the Images\n",
    "\n",
    "We only care about the `images/` directories in the following subsets of the data:\n",
    "- `fountain-P11`\n",
    "- `Herz-Jesus-P8`\n",
    "- `entry-P10`"
   ]
  },
  {
   "cell_type": "code",
   "execution_count": 3,
   "metadata": {},
   "outputs": [],
   "source": [
    "import glob"
   ]
  },
  {
   "cell_type": "code",
   "execution_count": 4,
   "metadata": {},
   "outputs": [],
   "source": [
    "BASE_DATA_PATH = \"./SfM_quality_evaluation/Benchmarking_Camera_Calibration_2008\"\n",
    "subset_names = [\"entry-P10\", \"Herz-Jesus-P8\", \"fountain-P11\"]\n",
    "file_ext_pattern = \"*.jpg\""
   ]
  },
  {
   "cell_type": "code",
   "execution_count": 5,
   "metadata": {},
   "outputs": [
    {
     "name": "stdout",
     "output_type": "stream",
     "text": [
      "['./SfM_quality_evaluation/Benchmarking_Camera_Calibration_2008/entry-P10/images/0006.jpg', './SfM_quality_evaluation/Benchmarking_Camera_Calibration_2008/entry-P10/images/0007.jpg', './SfM_quality_evaluation/Benchmarking_Camera_Calibration_2008/entry-P10/images/0005.jpg', './SfM_quality_evaluation/Benchmarking_Camera_Calibration_2008/entry-P10/images/0004.jpg', './SfM_quality_evaluation/Benchmarking_Camera_Calibration_2008/entry-P10/images/0000.jpg', './SfM_quality_evaluation/Benchmarking_Camera_Calibration_2008/entry-P10/images/0001.jpg', './SfM_quality_evaluation/Benchmarking_Camera_Calibration_2008/entry-P10/images/0003.jpg', './SfM_quality_evaluation/Benchmarking_Camera_Calibration_2008/entry-P10/images/0002.jpg', './SfM_quality_evaluation/Benchmarking_Camera_Calibration_2008/entry-P10/images/0009.jpg', './SfM_quality_evaluation/Benchmarking_Camera_Calibration_2008/entry-P10/images/0008.jpg', './SfM_quality_evaluation/Benchmarking_Camera_Calibration_2008/Herz-Jesus-P8/images/0006.jpg', './SfM_quality_evaluation/Benchmarking_Camera_Calibration_2008/Herz-Jesus-P8/images/0007.jpg', './SfM_quality_evaluation/Benchmarking_Camera_Calibration_2008/Herz-Jesus-P8/images/0005.jpg', './SfM_quality_evaluation/Benchmarking_Camera_Calibration_2008/Herz-Jesus-P8/images/0004.jpg', './SfM_quality_evaluation/Benchmarking_Camera_Calibration_2008/Herz-Jesus-P8/images/0000.jpg', './SfM_quality_evaluation/Benchmarking_Camera_Calibration_2008/Herz-Jesus-P8/images/0001.jpg', './SfM_quality_evaluation/Benchmarking_Camera_Calibration_2008/Herz-Jesus-P8/images/0003.jpg', './SfM_quality_evaluation/Benchmarking_Camera_Calibration_2008/Herz-Jesus-P8/images/0002.jpg', './SfM_quality_evaluation/Benchmarking_Camera_Calibration_2008/fountain-P11/images/0006.jpg', './SfM_quality_evaluation/Benchmarking_Camera_Calibration_2008/fountain-P11/images/0007.jpg', './SfM_quality_evaluation/Benchmarking_Camera_Calibration_2008/fountain-P11/images/0005.jpg', './SfM_quality_evaluation/Benchmarking_Camera_Calibration_2008/fountain-P11/images/0010.jpg', './SfM_quality_evaluation/Benchmarking_Camera_Calibration_2008/fountain-P11/images/0004.jpg', './SfM_quality_evaluation/Benchmarking_Camera_Calibration_2008/fountain-P11/images/0000.jpg', './SfM_quality_evaluation/Benchmarking_Camera_Calibration_2008/fountain-P11/images/0001.jpg', './SfM_quality_evaluation/Benchmarking_Camera_Calibration_2008/fountain-P11/images/0003.jpg', './SfM_quality_evaluation/Benchmarking_Camera_Calibration_2008/fountain-P11/images/0002.jpg', './SfM_quality_evaluation/Benchmarking_Camera_Calibration_2008/fountain-P11/images/0009.jpg', './SfM_quality_evaluation/Benchmarking_Camera_Calibration_2008/fountain-P11/images/0008.jpg']\n"
     ]
    }
   ],
   "source": [
    "all_img_paths = list()\n",
    "\n",
    "for subset in subset_names:\n",
    "    pattern_for_subset_images = \"/\".join(\n",
    "        [BASE_DATA_PATH, subset, \"images\", file_ext_pattern]\n",
    "    )\n",
    "    all_img_paths.extend(glob.glob(pattern_for_subset_images))\n",
    "\n",
    "print(all_img_paths)"
   ]
  },
  {
   "cell_type": "markdown",
   "metadata": {},
   "source": [
    "Sweet. Lastly, we can load all these images into memory for further processing. "
   ]
  },
  {
   "cell_type": "code",
   "execution_count": 13,
   "metadata": {},
   "outputs": [],
   "source": [
    "from util import ops"
   ]
  },
  {
   "cell_type": "code",
   "execution_count": 24,
   "metadata": {},
   "outputs": [
    {
     "name": "stdout",
     "output_type": "stream",
     "text": [
      "Dimensions of ./SfM_quality_evaluation/Benchmarking_Camera_Calibration_2008/entry-P10/images/0006.jpg: 2048 x 3072\n",
      "Dimensions of ./SfM_quality_evaluation/Benchmarking_Camera_Calibration_2008/entry-P10/images/0007.jpg: 2048 x 3072\n",
      "Dimensions of ./SfM_quality_evaluation/Benchmarking_Camera_Calibration_2008/entry-P10/images/0005.jpg: 2048 x 3072\n",
      "Dimensions of ./SfM_quality_evaluation/Benchmarking_Camera_Calibration_2008/entry-P10/images/0004.jpg: 2048 x 3072\n",
      "Dimensions of ./SfM_quality_evaluation/Benchmarking_Camera_Calibration_2008/entry-P10/images/0000.jpg: 2048 x 3072\n",
      "Dimensions of ./SfM_quality_evaluation/Benchmarking_Camera_Calibration_2008/entry-P10/images/0001.jpg: 2048 x 3072\n",
      "Dimensions of ./SfM_quality_evaluation/Benchmarking_Camera_Calibration_2008/entry-P10/images/0003.jpg: 2048 x 3072\n",
      "Dimensions of ./SfM_quality_evaluation/Benchmarking_Camera_Calibration_2008/entry-P10/images/0002.jpg: 2048 x 3072\n",
      "Dimensions of ./SfM_quality_evaluation/Benchmarking_Camera_Calibration_2008/entry-P10/images/0009.jpg: 2048 x 3072\n",
      "Dimensions of ./SfM_quality_evaluation/Benchmarking_Camera_Calibration_2008/entry-P10/images/0008.jpg: 2048 x 3072\n",
      "Dimensions of ./SfM_quality_evaluation/Benchmarking_Camera_Calibration_2008/Herz-Jesus-P8/images/0006.jpg: 2048 x 3072\n",
      "Dimensions of ./SfM_quality_evaluation/Benchmarking_Camera_Calibration_2008/Herz-Jesus-P8/images/0007.jpg: 2048 x 3072\n",
      "Dimensions of ./SfM_quality_evaluation/Benchmarking_Camera_Calibration_2008/Herz-Jesus-P8/images/0005.jpg: 2048 x 3072\n",
      "Dimensions of ./SfM_quality_evaluation/Benchmarking_Camera_Calibration_2008/Herz-Jesus-P8/images/0004.jpg: 2048 x 3072\n",
      "Dimensions of ./SfM_quality_evaluation/Benchmarking_Camera_Calibration_2008/Herz-Jesus-P8/images/0000.jpg: 2048 x 3072\n",
      "Dimensions of ./SfM_quality_evaluation/Benchmarking_Camera_Calibration_2008/Herz-Jesus-P8/images/0001.jpg: 2048 x 3072\n",
      "Dimensions of ./SfM_quality_evaluation/Benchmarking_Camera_Calibration_2008/Herz-Jesus-P8/images/0003.jpg: 2048 x 3072\n",
      "Dimensions of ./SfM_quality_evaluation/Benchmarking_Camera_Calibration_2008/Herz-Jesus-P8/images/0002.jpg: 2048 x 3072\n",
      "Dimensions of ./SfM_quality_evaluation/Benchmarking_Camera_Calibration_2008/fountain-P11/images/0006.jpg: 2048 x 3072\n",
      "Dimensions of ./SfM_quality_evaluation/Benchmarking_Camera_Calibration_2008/fountain-P11/images/0007.jpg: 2048 x 3072\n",
      "Dimensions of ./SfM_quality_evaluation/Benchmarking_Camera_Calibration_2008/fountain-P11/images/0005.jpg: 2048 x 3072\n",
      "Dimensions of ./SfM_quality_evaluation/Benchmarking_Camera_Calibration_2008/fountain-P11/images/0010.jpg: 2048 x 3072\n",
      "Dimensions of ./SfM_quality_evaluation/Benchmarking_Camera_Calibration_2008/fountain-P11/images/0004.jpg: 2048 x 3072\n",
      "Dimensions of ./SfM_quality_evaluation/Benchmarking_Camera_Calibration_2008/fountain-P11/images/0000.jpg: 2048 x 3072\n",
      "Dimensions of ./SfM_quality_evaluation/Benchmarking_Camera_Calibration_2008/fountain-P11/images/0001.jpg: 2048 x 3072\n",
      "Dimensions of ./SfM_quality_evaluation/Benchmarking_Camera_Calibration_2008/fountain-P11/images/0003.jpg: 2048 x 3072\n",
      "Dimensions of ./SfM_quality_evaluation/Benchmarking_Camera_Calibration_2008/fountain-P11/images/0002.jpg: 2048 x 3072\n",
      "Dimensions of ./SfM_quality_evaluation/Benchmarking_Camera_Calibration_2008/fountain-P11/images/0009.jpg: 2048 x 3072\n",
      "Dimensions of ./SfM_quality_evaluation/Benchmarking_Camera_Calibration_2008/fountain-P11/images/0008.jpg: 2048 x 3072\n"
     ]
    }
   ],
   "source": [
    "all_img_arrays = [\n",
    "    ops.load_image(img_path, return_grayscale=True, return_array=True)\n",
    "    for img_path in all_img_paths\n",
    "]\n",
    "\n",
    "all_imgs = dict(zip(all_img_paths, all_img_arrays))"
   ]
  },
  {
   "cell_type": "markdown",
   "metadata": {},
   "source": [
    "## Part B: Extract Global Descriptors\n",
    "\n",
    "I will choose to extract a GIST descriptor for each image. I will elect to keep all the images in their current size (since they're already all the same dimensions)."
   ]
  },
  {
   "cell_type": "code",
   "execution_count": 40,
   "metadata": {},
   "outputs": [
    {
     "data": {
      "text/plain": [
       "method_descriptor"
      ]
     },
     "execution_count": 40,
     "metadata": {},
     "output_type": "execute_result"
    }
   ],
   "source": [
    "type(cv2.SIFT.detect)"
   ]
  },
  {
   "cell_type": "code",
   "execution_count": 46,
   "metadata": {},
   "outputs": [],
   "source": [
    "from typing import List, Union\n",
    "\n",
    "import cv2\n",
    "import numpy as np\n",
    "\n",
    "from util.clustering import KMeans\n",
    "\n",
    "\n",
    "def _extract_sift_features(\n",
    "    img: np.ndarray,\n",
    "    mode: str = \"detection\",\n",
    ") -> Union[List[cv2.KeyPoint], np.ndarray]:\n",
    "    \"\"\"Feature extraction using SIFT. Can be used for either detection or description\"\"\"\n",
    "    sift = cv2.SIFT_create()\n",
    "    img_normalized = cv2.normalize(img, None, 0, 255, cv2.NORM_MINMAX).astype(\"uint8\")\n",
    "    keypoints, descriptors = sift.detectAndCompute(img_normalized, None)\n",
    "    if mode == \"detection\":\n",
    "        return keypoints  # list of keypoint objs\n",
    "    elif mode == \"description\":\n",
    "        return descriptors  # ndarray\n",
    "\n",
    "\n",
    "def create_global_visual_word_vocabulary(\n",
    "    imgs: List[np.ndarray],\n",
    "    n_clusters: int,\n",
    ") -> KMeans:\n",
    "    descriptors_list = []\n",
    "    for img in imgs:\n",
    "        descriptors = _extract_sift_features(img, mode=\"description\")\n",
    "        if descriptors is not None:\n",
    "            descriptors_list.extend(descriptors)\n",
    "\n",
    "    descriptors_arr = np.array(descriptors_list)\n",
    "\n",
    "    # create full set of visual words\n",
    "    kmeans = KMeans(k=n_clusters)\n",
    "    kmeans.fit(descriptors_arr)\n",
    "    return kmeans\n",
    "\n",
    "\n",
    "def build_histograms(imgs: np.ndarray, kmeans: KMeans) -> np.ndarray:\n",
    "    \"\"\"Build histograms for EACH image using visual words, acting as a global representation.\"\"\"\n",
    "    histograms = []\n",
    "    for img in imgs:\n",
    "        descriptors = _extract_sift_features(img, mode=\"description\")\n",
    "        if descriptors is not None:\n",
    "            labels = kmeans.predict(descriptors)\n",
    "            histogram, _ = np.histogram(labels, bins=range(kmeans.num_clusters + 1))\n",
    "            histograms.append(histogram)\n",
    "        else:\n",
    "            histograms.append(np.zeros(kmeans.num_clusters))\n",
    "    return np.array(histograms)"
   ]
  },
  {
   "cell_type": "markdown",
   "metadata": {},
   "source": [
    "### Build a Global Visual Word Dictionary (via Clustering)"
   ]
  },
  {
   "cell_type": "code",
   "execution_count": 31,
   "metadata": {},
   "outputs": [],
   "source": [
    "visual_word_identifier = create_global_visual_word_vocabulary(\n",
    "    all_img_arrays,\n",
    "    n_clusters=10,  # just a guess, we can tune later\n",
    ")"
   ]
  },
  {
   "cell_type": "markdown",
   "metadata": {},
   "source": [
    "### Compute the Global BoW Descriptor for All Images"
   ]
  },
  {
   "cell_type": "code",
   "execution_count": 33,
   "metadata": {},
   "outputs": [],
   "source": [
    "all_img_descriptors = build_histograms(all_img_arrays, visual_word_identifier)"
   ]
  },
  {
   "cell_type": "code",
   "execution_count": 35,
   "metadata": {},
   "outputs": [
    {
     "name": "stdout",
     "output_type": "stream",
     "text": [
      "[[ 901  721  708 1181  377  558  315   22 2083  953]\n",
      " [ 884  696  684 1135  509  581  329   26 2104  986]\n",
      " [ 833  692  644 1163  346  511  268   18 1796  769]\n",
      " [ 846  697  584 1151  360  492  248   30 1626  647]\n",
      " [ 944  695  775 1062  483  575  316   22 2128  822]\n",
      " [ 854  674  797 1065  447  568  302   33 2220  864]\n",
      " [ 938  692  722 1064  397  475  271   19 1907  785]\n",
      " [ 850  678  706 1083  375  493  297   23 2080  805]\n",
      " [ 609  478  509  868  451  549  255   29 1720  550]\n",
      " [ 742  520  618  978  457  482  250   16 1942  743]\n",
      " [ 718  498  546  918  351  565  128   10 1230  359]\n",
      " [ 687  484  523  922  357  595  123   20 1398  385]\n",
      " [ 453  371  359  724  275  435   91    7 1078  252]\n",
      " [ 612  403  479  856  258  484  111    9 1358  425]\n",
      " [ 847  537  721 1218  393  643  175   17 1538  695]\n",
      " [ 487  355  471  677  239  435  106    8 1147  404]\n",
      " [ 688  413  780  959  275  525  121   14 1500  735]\n",
      " [ 630  411  653  884  278  515  128    9 1349  604]\n",
      " [ 751  437  848  892  267  409  158   10 1526  608]\n",
      " [ 740  402  735  846  216  429  149    9 1353  517]\n",
      " [ 806  350  779  756  230  420  160    8 1451  594]\n",
      " [1023  702  787 1370  451  776  256   25 1997  650]\n",
      " [ 803  380  802  836  233  449  153   13 1590  624]\n",
      " [ 858  383  817 1016  267  477  173   13 1608  629]\n",
      " [ 911  440  919 1045  304  562  192   10 1899  709]\n",
      " [ 852  443  879 1039  281  552  174   10 1842  719]\n",
      " [ 850  392  862 1013  263  500  163   19 1701  642]\n",
      " [ 891  588  846 1218  342  580  218   20 1752  622]\n",
      " [ 876  501  858 1004  302  512  191   13 1589  609]]\n"
     ]
    }
   ],
   "source": [
    "print(all_img_descriptors)"
   ]
  }
 ],
 "metadata": {
  "kernelspec": {
   "display_name": "end-env",
   "language": "python",
   "name": "end-env"
  },
  "language_info": {
   "codemirror_mode": {
    "name": "ipython",
    "version": 3
   },
   "file_extension": ".py",
   "mimetype": "text/x-python",
   "name": "python",
   "nbconvert_exporter": "python",
   "pygments_lexer": "ipython3",
   "version": "3.10.9"
  }
 },
 "nbformat": 4,
 "nbformat_minor": 2
}
