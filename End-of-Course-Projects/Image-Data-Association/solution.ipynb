{
 "cells": [
  {
   "cell_type": "markdown",
   "metadata": {},
   "source": [
    "# Image Data Association"
   ]
  },
  {
   "cell_type": "code",
   "execution_count": 7,
   "metadata": {},
   "outputs": [
    {
     "name": "stdout",
     "output_type": "stream",
     "text": [
      "The autoreload extension is already loaded. To reload it, use:\n",
      "  %reload_ext autoreload\n"
     ]
    }
   ],
   "source": [
    "# optional: allow Jupyter to \"hot reload\" the Python modules I wrote, to avoid restarting the kernel after every change\n",
    "%load_ext autoreload\n",
    "%autoreload 2"
   ]
  },
  {
   "cell_type": "markdown",
   "metadata": {},
   "source": [
    "## Part A: Formulating the Dataset\n",
    "\n",
    "Note: the cells below do NOT need to be rerun!"
   ]
  },
  {
   "cell_type": "markdown",
   "metadata": {},
   "source": [
    "### Downloading the Entire Dataset"
   ]
  },
  {
   "cell_type": "code",
   "execution_count": 2,
   "metadata": {},
   "outputs": [
    {
     "name": "stdout",
     "output_type": "stream",
     "text": [
      "mkdir: ./Data: File exists\n"
     ]
    }
   ],
   "source": [
    "! mkdir ./Data"
   ]
  },
  {
   "cell_type": "code",
   "execution_count": 2,
   "metadata": {},
   "outputs": [
    {
     "name": "stdout",
     "output_type": "stream",
     "text": [
      "Cloning into 'SfM_quality_evaluation'...\n"
     ]
    },
    {
     "name": "stdout",
     "output_type": "stream",
     "text": [
      "remote: Enumerating objects: 237, done.\u001b[K\n",
      "remote: Total 237 (delta 0), reused 0 (delta 0), pack-reused 237\u001b[K\n",
      "Receiving objects: 100% (237/237), 254.31 MiB | 13.61 MiB/s, done.\n",
      "Resolving deltas: 100% (9/9), done.\n",
      "Updating files: 100% (214/214), done.\n"
     ]
    }
   ],
   "source": [
    "! git clone https://github.com/openMVG/SfM_quality_evaluation.git "
   ]
  },
  {
   "cell_type": "markdown",
   "metadata": {},
   "source": [
    "### Aggregating the Images\n",
    "\n",
    "We only care about the `images/` directories in the following subsets of the data:\n",
    "- `fountain-P11`\n",
    "- `Herz-Jesus-P8`\n",
    "- `entry-P10`"
   ]
  },
  {
   "cell_type": "code",
   "execution_count": 3,
   "metadata": {},
   "outputs": [],
   "source": [
    "import glob"
   ]
  },
  {
   "cell_type": "code",
   "execution_count": 4,
   "metadata": {},
   "outputs": [],
   "source": [
    "BASE_DATA_PATH = \"./SfM_quality_evaluation/Benchmarking_Camera_Calibration_2008\"\n",
    "subset_names = [\"entry-P10\", \"Herz-Jesus-P8\", \"fountain-P11\"]\n",
    "file_ext_pattern = \"*.jpg\""
   ]
  },
  {
   "cell_type": "code",
   "execution_count": 5,
   "metadata": {},
   "outputs": [
    {
     "name": "stdout",
     "output_type": "stream",
     "text": [
      "['./SfM_quality_evaluation/Benchmarking_Camera_Calibration_2008/entry-P10/images/0006.jpg', './SfM_quality_evaluation/Benchmarking_Camera_Calibration_2008/entry-P10/images/0007.jpg', './SfM_quality_evaluation/Benchmarking_Camera_Calibration_2008/entry-P10/images/0005.jpg', './SfM_quality_evaluation/Benchmarking_Camera_Calibration_2008/entry-P10/images/0004.jpg', './SfM_quality_evaluation/Benchmarking_Camera_Calibration_2008/entry-P10/images/0000.jpg', './SfM_quality_evaluation/Benchmarking_Camera_Calibration_2008/entry-P10/images/0001.jpg', './SfM_quality_evaluation/Benchmarking_Camera_Calibration_2008/entry-P10/images/0003.jpg', './SfM_quality_evaluation/Benchmarking_Camera_Calibration_2008/entry-P10/images/0002.jpg', './SfM_quality_evaluation/Benchmarking_Camera_Calibration_2008/entry-P10/images/0009.jpg', './SfM_quality_evaluation/Benchmarking_Camera_Calibration_2008/entry-P10/images/0008.jpg', './SfM_quality_evaluation/Benchmarking_Camera_Calibration_2008/Herz-Jesus-P8/images/0006.jpg', './SfM_quality_evaluation/Benchmarking_Camera_Calibration_2008/Herz-Jesus-P8/images/0007.jpg', './SfM_quality_evaluation/Benchmarking_Camera_Calibration_2008/Herz-Jesus-P8/images/0005.jpg', './SfM_quality_evaluation/Benchmarking_Camera_Calibration_2008/Herz-Jesus-P8/images/0004.jpg', './SfM_quality_evaluation/Benchmarking_Camera_Calibration_2008/Herz-Jesus-P8/images/0000.jpg', './SfM_quality_evaluation/Benchmarking_Camera_Calibration_2008/Herz-Jesus-P8/images/0001.jpg', './SfM_quality_evaluation/Benchmarking_Camera_Calibration_2008/Herz-Jesus-P8/images/0003.jpg', './SfM_quality_evaluation/Benchmarking_Camera_Calibration_2008/Herz-Jesus-P8/images/0002.jpg', './SfM_quality_evaluation/Benchmarking_Camera_Calibration_2008/fountain-P11/images/0006.jpg', './SfM_quality_evaluation/Benchmarking_Camera_Calibration_2008/fountain-P11/images/0007.jpg', './SfM_quality_evaluation/Benchmarking_Camera_Calibration_2008/fountain-P11/images/0005.jpg', './SfM_quality_evaluation/Benchmarking_Camera_Calibration_2008/fountain-P11/images/0010.jpg', './SfM_quality_evaluation/Benchmarking_Camera_Calibration_2008/fountain-P11/images/0004.jpg', './SfM_quality_evaluation/Benchmarking_Camera_Calibration_2008/fountain-P11/images/0000.jpg', './SfM_quality_evaluation/Benchmarking_Camera_Calibration_2008/fountain-P11/images/0001.jpg', './SfM_quality_evaluation/Benchmarking_Camera_Calibration_2008/fountain-P11/images/0003.jpg', './SfM_quality_evaluation/Benchmarking_Camera_Calibration_2008/fountain-P11/images/0002.jpg', './SfM_quality_evaluation/Benchmarking_Camera_Calibration_2008/fountain-P11/images/0009.jpg', './SfM_quality_evaluation/Benchmarking_Camera_Calibration_2008/fountain-P11/images/0008.jpg']\n"
     ]
    }
   ],
   "source": [
    "all_img_paths = list()\n",
    "\n",
    "for subset in subset_names:\n",
    "    pattern_for_subset_images = \"/\".join(\n",
    "        [BASE_DATA_PATH, subset, \"images\", file_ext_pattern]\n",
    "    )\n",
    "    all_img_paths.extend(glob.glob(pattern_for_subset_images))\n",
    "\n",
    "print(all_img_paths)"
   ]
  },
  {
   "cell_type": "markdown",
   "metadata": {},
   "source": [
    "Sweet. Lastly, we can load all these images into memory for further processing. "
   ]
  },
  {
   "cell_type": "code",
   "execution_count": 13,
   "metadata": {},
   "outputs": [],
   "source": [
    "from util import ops"
   ]
  },
  {
   "cell_type": "code",
   "execution_count": 24,
   "metadata": {},
   "outputs": [
    {
     "name": "stdout",
     "output_type": "stream",
     "text": [
      "Dimensions of ./SfM_quality_evaluation/Benchmarking_Camera_Calibration_2008/entry-P10/images/0006.jpg: 2048 x 3072\n",
      "Dimensions of ./SfM_quality_evaluation/Benchmarking_Camera_Calibration_2008/entry-P10/images/0007.jpg: 2048 x 3072\n",
      "Dimensions of ./SfM_quality_evaluation/Benchmarking_Camera_Calibration_2008/entry-P10/images/0005.jpg: 2048 x 3072\n",
      "Dimensions of ./SfM_quality_evaluation/Benchmarking_Camera_Calibration_2008/entry-P10/images/0004.jpg: 2048 x 3072\n",
      "Dimensions of ./SfM_quality_evaluation/Benchmarking_Camera_Calibration_2008/entry-P10/images/0000.jpg: 2048 x 3072\n",
      "Dimensions of ./SfM_quality_evaluation/Benchmarking_Camera_Calibration_2008/entry-P10/images/0001.jpg: 2048 x 3072\n",
      "Dimensions of ./SfM_quality_evaluation/Benchmarking_Camera_Calibration_2008/entry-P10/images/0003.jpg: 2048 x 3072\n",
      "Dimensions of ./SfM_quality_evaluation/Benchmarking_Camera_Calibration_2008/entry-P10/images/0002.jpg: 2048 x 3072\n",
      "Dimensions of ./SfM_quality_evaluation/Benchmarking_Camera_Calibration_2008/entry-P10/images/0009.jpg: 2048 x 3072\n",
      "Dimensions of ./SfM_quality_evaluation/Benchmarking_Camera_Calibration_2008/entry-P10/images/0008.jpg: 2048 x 3072\n",
      "Dimensions of ./SfM_quality_evaluation/Benchmarking_Camera_Calibration_2008/Herz-Jesus-P8/images/0006.jpg: 2048 x 3072\n",
      "Dimensions of ./SfM_quality_evaluation/Benchmarking_Camera_Calibration_2008/Herz-Jesus-P8/images/0007.jpg: 2048 x 3072\n",
      "Dimensions of ./SfM_quality_evaluation/Benchmarking_Camera_Calibration_2008/Herz-Jesus-P8/images/0005.jpg: 2048 x 3072\n",
      "Dimensions of ./SfM_quality_evaluation/Benchmarking_Camera_Calibration_2008/Herz-Jesus-P8/images/0004.jpg: 2048 x 3072\n",
      "Dimensions of ./SfM_quality_evaluation/Benchmarking_Camera_Calibration_2008/Herz-Jesus-P8/images/0000.jpg: 2048 x 3072\n",
      "Dimensions of ./SfM_quality_evaluation/Benchmarking_Camera_Calibration_2008/Herz-Jesus-P8/images/0001.jpg: 2048 x 3072\n",
      "Dimensions of ./SfM_quality_evaluation/Benchmarking_Camera_Calibration_2008/Herz-Jesus-P8/images/0003.jpg: 2048 x 3072\n",
      "Dimensions of ./SfM_quality_evaluation/Benchmarking_Camera_Calibration_2008/Herz-Jesus-P8/images/0002.jpg: 2048 x 3072\n",
      "Dimensions of ./SfM_quality_evaluation/Benchmarking_Camera_Calibration_2008/fountain-P11/images/0006.jpg: 2048 x 3072\n",
      "Dimensions of ./SfM_quality_evaluation/Benchmarking_Camera_Calibration_2008/fountain-P11/images/0007.jpg: 2048 x 3072\n",
      "Dimensions of ./SfM_quality_evaluation/Benchmarking_Camera_Calibration_2008/fountain-P11/images/0005.jpg: 2048 x 3072\n",
      "Dimensions of ./SfM_quality_evaluation/Benchmarking_Camera_Calibration_2008/fountain-P11/images/0010.jpg: 2048 x 3072\n",
      "Dimensions of ./SfM_quality_evaluation/Benchmarking_Camera_Calibration_2008/fountain-P11/images/0004.jpg: 2048 x 3072\n",
      "Dimensions of ./SfM_quality_evaluation/Benchmarking_Camera_Calibration_2008/fountain-P11/images/0000.jpg: 2048 x 3072\n",
      "Dimensions of ./SfM_quality_evaluation/Benchmarking_Camera_Calibration_2008/fountain-P11/images/0001.jpg: 2048 x 3072\n",
      "Dimensions of ./SfM_quality_evaluation/Benchmarking_Camera_Calibration_2008/fountain-P11/images/0003.jpg: 2048 x 3072\n",
      "Dimensions of ./SfM_quality_evaluation/Benchmarking_Camera_Calibration_2008/fountain-P11/images/0002.jpg: 2048 x 3072\n",
      "Dimensions of ./SfM_quality_evaluation/Benchmarking_Camera_Calibration_2008/fountain-P11/images/0009.jpg: 2048 x 3072\n",
      "Dimensions of ./SfM_quality_evaluation/Benchmarking_Camera_Calibration_2008/fountain-P11/images/0008.jpg: 2048 x 3072\n"
     ]
    }
   ],
   "source": [
    "all_img_arrays = [\n",
    "    ops.load_image(img_path, return_grayscale=True, return_array=True)\n",
    "    for img_path in all_img_paths\n",
    "]\n",
    "\n",
    "all_imgs = dict(zip(all_img_paths, all_img_arrays))"
   ]
  },
  {
   "cell_type": "markdown",
   "metadata": {},
   "source": [
    "## Part B: Extract Global Descriptors\n",
    "\n",
    "I will choose to extract a GIST descriptor for each image. I will elect to keep all the images in their current size (since they're already all the same dimensions)."
   ]
  },
  {
   "cell_type": "code",
   "execution_count": 40,
   "metadata": {},
   "outputs": [
    {
     "data": {
      "text/plain": [
       "method_descriptor"
      ]
     },
     "execution_count": 40,
     "metadata": {},
     "output_type": "execute_result"
    }
   ],
   "source": [
    "type(cv2.SIFT.detect)"
   ]
  },
  {
   "cell_type": "code",
   "execution_count": 46,
   "metadata": {},
   "outputs": [],
   "source": [
    "from typing import List, Union\n",
    "\n",
    "import cv2\n",
    "import numpy as np\n",
    "\n",
    "from util.clustering import KMeans\n",
    "\n",
    "\n",
    "def _extract_sift_features(\n",
    "    img: np.ndarray,\n",
    "    mode: str = \"detection\",\n",
    ") -> Union[List[cv2.KeyPoint], np.ndarray]:\n",
    "    \"\"\"Feature extraction using SIFT. Can be used for either detection or description\"\"\"\n",
    "    sift = cv2.SIFT_create()\n",
    "    img_normalized = cv2.normalize(img, None, 0, 255, cv2.NORM_MINMAX).astype(\"uint8\")\n",
    "    keypoints, descriptors = sift.detectAndCompute(img_normalized, None)\n",
    "    if mode == \"detection\":\n",
    "        return keypoints  # list of keypoint objs\n",
    "    elif mode == \"description\":\n",
    "        return descriptors  # ndarray\n",
    "\n",
    "\n",
    "def create_global_visual_word_vocabulary(\n",
    "    imgs: List[np.ndarray],\n",
    "    n_clusters: int,\n",
    ") -> KMeans:\n",
    "    descriptors_list = []\n",
    "    for img in imgs:\n",
    "        descriptors = _extract_sift_features(img, mode=\"description\")\n",
    "        if descriptors is not None:\n",
    "            descriptors_list.extend(descriptors)\n",
    "\n",
    "    descriptors_arr = np.array(descriptors_list)\n",
    "\n",
    "    # create full set of visual words\n",
    "    kmeans = KMeans(k=n_clusters)\n",
    "    kmeans.fit(descriptors_arr)\n",
    "    return kmeans\n",
    "\n",
    "\n",
    "def build_histograms(imgs: np.ndarray, kmeans: KMeans) -> np.ndarray:\n",
    "    \"\"\"Build histograms for EACH image using visual words, acting as a global representation.\"\"\"\n",
    "    histograms = []\n",
    "    for img in imgs:\n",
    "        descriptors = _extract_sift_features(img, mode=\"description\")\n",
    "        if descriptors is not None:\n",
    "            labels = kmeans.predict(descriptors)\n",
    "            histogram, _ = np.histogram(labels, bins=range(kmeans.num_clusters + 1))\n",
    "            histograms.append(histogram)\n",
    "        else:\n",
    "            histograms.append(np.zeros(kmeans.num_clusters))\n",
    "    return np.array(histograms)"
   ]
  },
  {
   "cell_type": "markdown",
   "metadata": {},
   "source": [
    "### Build a Global Visual Word Dictionary (via Clustering)"
   ]
  },
  {
   "cell_type": "code",
   "execution_count": 31,
   "metadata": {},
   "outputs": [],
   "source": [
    "visual_word_identifier = create_global_visual_word_vocabulary(\n",
    "    all_img_arrays,\n",
    "    n_clusters=10,  # just a guess, we can tune later\n",
    ")"
   ]
  },
  {
   "cell_type": "markdown",
   "metadata": {},
   "source": [
    "### Compute the Global BoW Descriptor for All Images"
   ]
  },
  {
   "cell_type": "code",
   "execution_count": 33,
   "metadata": {},
   "outputs": [],
   "source": [
    "all_img_descriptors = build_histograms(all_img_arrays, visual_word_identifier)"
   ]
  },
  {
   "cell_type": "code",
   "execution_count": 35,
   "metadata": {},
   "outputs": [
    {
     "name": "stdout",
     "output_type": "stream",
     "text": [
      "[[ 901  721  708 1181  377  558  315   22 2083  953]\n",
      " [ 884  696  684 1135  509  581  329   26 2104  986]\n",
      " [ 833  692  644 1163  346  511  268   18 1796  769]\n",
      " [ 846  697  584 1151  360  492  248   30 1626  647]\n",
      " [ 944  695  775 1062  483  575  316   22 2128  822]\n",
      " [ 854  674  797 1065  447  568  302   33 2220  864]\n",
      " [ 938  692  722 1064  397  475  271   19 1907  785]\n",
      " [ 850  678  706 1083  375  493  297   23 2080  805]\n",
      " [ 609  478  509  868  451  549  255   29 1720  550]\n",
      " [ 742  520  618  978  457  482  250   16 1942  743]\n",
      " [ 718  498  546  918  351  565  128   10 1230  359]\n",
      " [ 687  484  523  922  357  595  123   20 1398  385]\n",
      " [ 453  371  359  724  275  435   91    7 1078  252]\n",
      " [ 612  403  479  856  258  484  111    9 1358  425]\n",
      " [ 847  537  721 1218  393  643  175   17 1538  695]\n",
      " [ 487  355  471  677  239  435  106    8 1147  404]\n",
      " [ 688  413  780  959  275  525  121   14 1500  735]\n",
      " [ 630  411  653  884  278  515  128    9 1349  604]\n",
      " [ 751  437  848  892  267  409  158   10 1526  608]\n",
      " [ 740  402  735  846  216  429  149    9 1353  517]\n",
      " [ 806  350  779  756  230  420  160    8 1451  594]\n",
      " [1023  702  787 1370  451  776  256   25 1997  650]\n",
      " [ 803  380  802  836  233  449  153   13 1590  624]\n",
      " [ 858  383  817 1016  267  477  173   13 1608  629]\n",
      " [ 911  440  919 1045  304  562  192   10 1899  709]\n",
      " [ 852  443  879 1039  281  552  174   10 1842  719]\n",
      " [ 850  392  862 1013  263  500  163   19 1701  642]\n",
      " [ 891  588  846 1218  342  580  218   20 1752  622]\n",
      " [ 876  501  858 1004  302  512  191   13 1589  609]]\n"
     ]
    }
   ],
   "source": [
    "print(all_img_descriptors)"
   ]
  },
  {
   "cell_type": "markdown",
   "metadata": {},
   "source": [
    "## Part C: Mean-Shift Unsupervised Clustering"
   ]
  },
  {
   "cell_type": "code",
   "execution_count": 48,
   "metadata": {},
   "outputs": [],
   "source": [
    "from typing import Dict, Tuple\n",
    "\n",
    "import numpy as np"
   ]
  },
  {
   "cell_type": "code",
   "execution_count": 52,
   "metadata": {},
   "outputs": [],
   "source": [
    "def mean_shift(\n",
    "    data: np.ndarray,\n",
    "    window_size: int = 1.0,\n",
    "    max_iter: int = 100,\n",
    "    convergence_threshold: float = 1e-4,\n",
    ") -> Dict[int, Tuple[Tuple[float], List[np.ndarray]]]:\n",
    "    # 1: find the \"hill\" each point should climb\n",
    "    n_points, _ = data.shape\n",
    "\n",
    "    # Initialize random means for each data point\n",
    "    hills = list()\n",
    "\n",
    "    for i in range(n_points):\n",
    "        current_point = data[i, :]\n",
    "        means = [current_point]\n",
    "\n",
    "        for _ in range(max_iter):\n",
    "            # Find points within the bandwidth distance from the current mean\n",
    "            last_mean = means[-1]\n",
    "            within_window = np.linalg.norm(data - last_mean, axis=1) < window_size\n",
    "\n",
    "            # Update mean using the points within the bandwidth\n",
    "            new_mean = np.mean(data[within_window], axis=0)\n",
    "            means.append(new_mean)\n",
    "\n",
    "            # Check for convergence\n",
    "            if np.linalg.norm(last_mean - new_mean) < convergence_threshold:\n",
    "                break\n",
    "\n",
    "        hills.append(means)\n",
    "\n",
    "    # 2: Assign cluster labels based on the final means\n",
    "    unique_means = list(set([tuple(hill[-1]) for hill in hills]))\n",
    "    cluster_labels_to_points = dict()\n",
    "    cluster_coords_to_labels = dict()\n",
    "    for cluster_label in range(len(unique_means)):\n",
    "        cluster_labels_to_points[cluster_label] = list()\n",
    "        cluster_coords_to_labels[unique_means[cluster_label]] = cluster_label\n",
    "\n",
    "    for i, hill in enumerate(hills):\n",
    "        # map this point to the specific cluster\n",
    "        mean = hill[-1]\n",
    "        original_point = hill[0]\n",
    "        label = cluster_coords_to_labels[tuple(mean)]\n",
    "        cluster_labels_to_points[label].append(original_point)\n",
    "\n",
    "    # bring it all together: label -> centroid, list of original pts\n",
    "    all_cluster_data = dict()\n",
    "    for centroid_coords, label in cluster_coords_to_labels.items():\n",
    "        original_pts = cluster_labels_to_points[label]\n",
    "        all_cluster_data[label] = (centroid_coords, original_pts)\n",
    "\n",
    "    return all_cluster_data"
   ]
  },
  {
   "cell_type": "code",
   "execution_count": 81,
   "metadata": {},
   "outputs": [],
   "source": [
    "clusters_of_descriptors = mean_shift(\n",
    "    data=all_img_descriptors,\n",
    "    window_size=100,\n",
    "    max_iter=1_000_000_0,\n",
    "    convergence_threshold=0.5\n",
    ")"
   ]
  },
  {
   "cell_type": "code",
   "execution_count": 83,
   "metadata": {},
   "outputs": [
    {
     "name": "stdout",
     "output_type": "stream",
     "text": [
      "==========================\n",
      "Cluster #0 Report:\n",
      "Centroid Coordinates: (803.0, 380.0, 802.0, 836.0, 233.0, 449.0, 153.0, 13.0, 1590.0, 624.0)\n",
      "No. of Members: 1\n",
      "==========================\n",
      "Cluster #1 Report:\n",
      "Centroid Coordinates: (487.0, 355.0, 471.0, 677.0, 239.0, 435.0, 106.0, 8.0, 1147.0, 404.0)\n",
      "No. of Members: 1\n",
      "==========================\n",
      "Cluster #2 Report:\n",
      "Centroid Coordinates: (944.0, 695.0, 775.0, 1062.0, 483.0, 575.0, 316.0, 22.0, 2128.0, 822.0)\n",
      "No. of Members: 1\n",
      "==========================\n",
      "Cluster #3 Report:\n",
      "Centroid Coordinates: (630.0, 411.0, 653.0, 884.0, 278.0, 515.0, 128.0, 9.0, 1349.0, 604.0)\n",
      "No. of Members: 1\n",
      "==========================\n",
      "Cluster #4 Report:\n",
      "Centroid Coordinates: (884.0, 696.0, 684.0, 1135.0, 509.0, 581.0, 329.0, 26.0, 2104.0, 986.0)\n",
      "No. of Members: 1\n",
      "==========================\n",
      "Cluster #5 Report:\n",
      "Centroid Coordinates: (846.0, 697.0, 584.0, 1151.0, 360.0, 492.0, 248.0, 30.0, 1626.0, 647.0)\n",
      "No. of Members: 1\n",
      "==========================\n",
      "Cluster #6 Report:\n",
      "Centroid Coordinates: (740.0, 402.0, 735.0, 846.0, 216.0, 429.0, 149.0, 9.0, 1353.0, 517.0)\n",
      "No. of Members: 1\n",
      "==========================\n",
      "Cluster #7 Report:\n",
      "Centroid Coordinates: (891.0, 588.0, 846.0, 1218.0, 342.0, 580.0, 218.0, 20.0, 1752.0, 622.0)\n",
      "No. of Members: 1\n",
      "==========================\n",
      "Cluster #8 Report:\n",
      "Centroid Coordinates: (901.0, 721.0, 708.0, 1181.0, 377.0, 558.0, 315.0, 22.0, 2083.0, 953.0)\n",
      "No. of Members: 1\n",
      "==========================\n",
      "Cluster #9 Report:\n",
      "Centroid Coordinates: (881.5, 441.5, 899.0, 1042.0, 292.5, 557.0, 183.0, 10.0, 1870.5, 714.0)\n",
      "No. of Members: 2\n",
      "==========================\n",
      "Cluster #10 Report:\n",
      "Centroid Coordinates: (833.0, 692.0, 644.0, 1163.0, 346.0, 511.0, 268.0, 18.0, 1796.0, 769.0)\n",
      "No. of Members: 1\n",
      "==========================\n",
      "Cluster #11 Report:\n",
      "Centroid Coordinates: (687.0, 484.0, 523.0, 922.0, 357.0, 595.0, 123.0, 20.0, 1398.0, 385.0)\n",
      "No. of Members: 1\n",
      "==========================\n",
      "Cluster #12 Report:\n",
      "Centroid Coordinates: (742.0, 520.0, 618.0, 978.0, 457.0, 482.0, 250.0, 16.0, 1942.0, 743.0)\n",
      "No. of Members: 1\n",
      "==========================\n",
      "Cluster #13 Report:\n",
      "Centroid Coordinates: (609.0, 478.0, 509.0, 868.0, 451.0, 549.0, 255.0, 29.0, 1720.0, 550.0)\n",
      "No. of Members: 1\n",
      "==========================\n",
      "Cluster #14 Report:\n",
      "Centroid Coordinates: (718.0, 498.0, 546.0, 918.0, 351.0, 565.0, 128.0, 10.0, 1230.0, 359.0)\n",
      "No. of Members: 1\n",
      "==========================\n",
      "Cluster #15 Report:\n",
      "Centroid Coordinates: (612.0, 403.0, 479.0, 856.0, 258.0, 484.0, 111.0, 9.0, 1358.0, 425.0)\n",
      "No. of Members: 1\n",
      "==========================\n",
      "Cluster #16 Report:\n",
      "Centroid Coordinates: (858.0, 383.0, 817.0, 1016.0, 267.0, 477.0, 173.0, 13.0, 1608.0, 629.0)\n",
      "No. of Members: 1\n",
      "==========================\n",
      "Cluster #17 Report:\n",
      "Centroid Coordinates: (938.0, 692.0, 722.0, 1064.0, 397.0, 475.0, 271.0, 19.0, 1907.0, 785.0)\n",
      "No. of Members: 1\n",
      "==========================\n",
      "Cluster #18 Report:\n",
      "Centroid Coordinates: (806.0, 350.0, 779.0, 756.0, 230.0, 420.0, 160.0, 8.0, 1451.0, 594.0)\n",
      "No. of Members: 1\n",
      "==========================\n",
      "Cluster #19 Report:\n",
      "Centroid Coordinates: (876.0, 501.0, 858.0, 1004.0, 302.0, 512.0, 191.0, 13.0, 1589.0, 609.0)\n",
      "No. of Members: 1\n",
      "==========================\n",
      "Cluster #20 Report:\n",
      "Centroid Coordinates: (850.0, 678.0, 706.0, 1083.0, 375.0, 493.0, 297.0, 23.0, 2080.0, 805.0)\n",
      "No. of Members: 1\n",
      "==========================\n",
      "Cluster #21 Report:\n",
      "Centroid Coordinates: (1023.0, 702.0, 787.0, 1370.0, 451.0, 776.0, 256.0, 25.0, 1997.0, 650.0)\n",
      "No. of Members: 1\n",
      "==========================\n",
      "Cluster #22 Report:\n",
      "Centroid Coordinates: (751.0, 437.0, 848.0, 892.0, 267.0, 409.0, 158.0, 10.0, 1526.0, 608.0)\n",
      "No. of Members: 1\n",
      "==========================\n",
      "Cluster #23 Report:\n",
      "Centroid Coordinates: (453.0, 371.0, 359.0, 724.0, 275.0, 435.0, 91.0, 7.0, 1078.0, 252.0)\n",
      "No. of Members: 1\n",
      "==========================\n",
      "Cluster #24 Report:\n",
      "Centroid Coordinates: (850.0, 392.0, 862.0, 1013.0, 263.0, 500.0, 163.0, 19.0, 1701.0, 642.0)\n",
      "No. of Members: 1\n",
      "==========================\n",
      "Cluster #25 Report:\n",
      "Centroid Coordinates: (847.0, 537.0, 721.0, 1218.0, 393.0, 643.0, 175.0, 17.0, 1538.0, 695.0)\n",
      "No. of Members: 1\n",
      "==========================\n",
      "Cluster #26 Report:\n",
      "Centroid Coordinates: (854.0, 674.0, 797.0, 1065.0, 447.0, 568.0, 302.0, 33.0, 2220.0, 864.0)\n",
      "No. of Members: 1\n",
      "==========================\n",
      "Cluster #27 Report:\n",
      "Centroid Coordinates: (688.0, 413.0, 780.0, 959.0, 275.0, 525.0, 121.0, 14.0, 1500.0, 735.0)\n",
      "No. of Members: 1\n"
     ]
    }
   ],
   "source": [
    "for label, pair in clusters_of_descriptors.items():\n",
    "    print(\"==========================\")\n",
    "    print(f\"Cluster #{label} Report:\")\n",
    "    print(f\"Centroid Coordinates: {pair[0]}\")\n",
    "    print(f\"No. of Members: {len(pair[1])}\")"
   ]
  },
  {
   "cell_type": "code",
   "execution_count": null,
   "metadata": {},
   "outputs": [],
   "source": []
  }
 ],
 "metadata": {
  "kernelspec": {
   "display_name": "end-env",
   "language": "python",
   "name": "end-env"
  },
  "language_info": {
   "codemirror_mode": {
    "name": "ipython",
    "version": 3
   },
   "file_extension": ".py",
   "mimetype": "text/x-python",
   "name": "python",
   "nbconvert_exporter": "python",
   "pygments_lexer": "ipython3",
   "version": "3.10.9"
  }
 },
 "nbformat": 4,
 "nbformat_minor": 2
}
