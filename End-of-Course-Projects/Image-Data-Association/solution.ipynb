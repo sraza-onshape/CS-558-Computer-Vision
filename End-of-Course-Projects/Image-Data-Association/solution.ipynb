{
 "cells": [
  {
   "cell_type": "markdown",
   "metadata": {},
   "source": [
    "# Image Data Association"
   ]
  },
  {
   "cell_type": "code",
   "execution_count": 19,
   "metadata": {},
   "outputs": [],
   "source": [
    "# optional: allow Jupyter to \"hot reload\" the Python modules I wrote, to avoid restarting the kernel after every change\n",
    "%load_ext autoreload\n",
    "%autoreload 2"
   ]
  },
  {
   "cell_type": "markdown",
   "metadata": {},
   "source": [
    "## Part A: Formulating the Dataset\n",
    "\n",
    "Note: the cells below do NOT need to be rerun!"
   ]
  },
  {
   "cell_type": "markdown",
   "metadata": {},
   "source": [
    "### Downloading the Entire Dataset"
   ]
  },
  {
   "cell_type": "code",
   "execution_count": 1,
   "metadata": {},
   "outputs": [
    {
     "name": "stdout",
     "output_type": "stream",
     "text": [
      "mkdir: ./Data: File exists\n"
     ]
    }
   ],
   "source": [
    "! mkdir ./Data"
   ]
  },
  {
   "cell_type": "code",
   "execution_count": 2,
   "metadata": {},
   "outputs": [
    {
     "name": "stdout",
     "output_type": "stream",
     "text": [
      "Cloning into 'SfM_quality_evaluation'...\n"
     ]
    },
    {
     "name": "stdout",
     "output_type": "stream",
     "text": [
      "remote: Enumerating objects: 237, done.\u001b[K\n",
      "remote: Total 237 (delta 0), reused 0 (delta 0), pack-reused 237\u001b[K\n",
      "Receiving objects: 100% (237/237), 254.31 MiB | 13.61 MiB/s, done.\n",
      "Resolving deltas: 100% (9/9), done.\n",
      "Updating files: 100% (214/214), done.\n"
     ]
    }
   ],
   "source": [
    "! git clone https://github.com/openMVG/SfM_quality_evaluation.git "
   ]
  },
  {
   "cell_type": "markdown",
   "metadata": {},
   "source": [
    "### Aggregating the Images\n",
    "\n",
    "We only care about the `images/` directories in the following subsets of the data:\n",
    "- `fountain-P11`\n",
    "- `Herz-Jesus-P8`\n",
    "- `entry-P10`"
   ]
  },
  {
   "cell_type": "code",
   "execution_count": 4,
   "metadata": {},
   "outputs": [],
   "source": [
    "import glob"
   ]
  },
  {
   "cell_type": "code",
   "execution_count": 15,
   "metadata": {},
   "outputs": [],
   "source": [
    "BASE_DATA_PATH = \"./SfM_quality_evaluation/Benchmarking_Camera_Calibration_2008\"\n",
    "subset_names = [\"entry-P10\", \"Herz-Jesus-P8\", \"fountain-P11\"]\n",
    "file_ext_pattern = \"*.jpg\""
   ]
  },
  {
   "cell_type": "code",
   "execution_count": 18,
   "metadata": {},
   "outputs": [
    {
     "name": "stdout",
     "output_type": "stream",
     "text": [
      "['./SfM_quality_evaluation/Benchmarking_Camera_Calibration_2008/entry-P10/images/0006.jpg', './SfM_quality_evaluation/Benchmarking_Camera_Calibration_2008/entry-P10/images/0007.jpg', './SfM_quality_evaluation/Benchmarking_Camera_Calibration_2008/entry-P10/images/0005.jpg', './SfM_quality_evaluation/Benchmarking_Camera_Calibration_2008/entry-P10/images/0004.jpg', './SfM_quality_evaluation/Benchmarking_Camera_Calibration_2008/entry-P10/images/0000.jpg', './SfM_quality_evaluation/Benchmarking_Camera_Calibration_2008/entry-P10/images/0001.jpg', './SfM_quality_evaluation/Benchmarking_Camera_Calibration_2008/entry-P10/images/0003.jpg', './SfM_quality_evaluation/Benchmarking_Camera_Calibration_2008/entry-P10/images/0002.jpg', './SfM_quality_evaluation/Benchmarking_Camera_Calibration_2008/entry-P10/images/0009.jpg', './SfM_quality_evaluation/Benchmarking_Camera_Calibration_2008/entry-P10/images/0008.jpg', './SfM_quality_evaluation/Benchmarking_Camera_Calibration_2008/Herz-Jesus-P8/images/0006.jpg', './SfM_quality_evaluation/Benchmarking_Camera_Calibration_2008/Herz-Jesus-P8/images/0007.jpg', './SfM_quality_evaluation/Benchmarking_Camera_Calibration_2008/Herz-Jesus-P8/images/0005.jpg', './SfM_quality_evaluation/Benchmarking_Camera_Calibration_2008/Herz-Jesus-P8/images/0004.jpg', './SfM_quality_evaluation/Benchmarking_Camera_Calibration_2008/Herz-Jesus-P8/images/0000.jpg', './SfM_quality_evaluation/Benchmarking_Camera_Calibration_2008/Herz-Jesus-P8/images/0001.jpg', './SfM_quality_evaluation/Benchmarking_Camera_Calibration_2008/Herz-Jesus-P8/images/0003.jpg', './SfM_quality_evaluation/Benchmarking_Camera_Calibration_2008/Herz-Jesus-P8/images/0002.jpg', './SfM_quality_evaluation/Benchmarking_Camera_Calibration_2008/fountain-P11/images/0006.jpg', './SfM_quality_evaluation/Benchmarking_Camera_Calibration_2008/fountain-P11/images/0007.jpg', './SfM_quality_evaluation/Benchmarking_Camera_Calibration_2008/fountain-P11/images/0005.jpg', './SfM_quality_evaluation/Benchmarking_Camera_Calibration_2008/fountain-P11/images/0010.jpg', './SfM_quality_evaluation/Benchmarking_Camera_Calibration_2008/fountain-P11/images/0004.jpg', './SfM_quality_evaluation/Benchmarking_Camera_Calibration_2008/fountain-P11/images/0000.jpg', './SfM_quality_evaluation/Benchmarking_Camera_Calibration_2008/fountain-P11/images/0001.jpg', './SfM_quality_evaluation/Benchmarking_Camera_Calibration_2008/fountain-P11/images/0003.jpg', './SfM_quality_evaluation/Benchmarking_Camera_Calibration_2008/fountain-P11/images/0002.jpg', './SfM_quality_evaluation/Benchmarking_Camera_Calibration_2008/fountain-P11/images/0009.jpg', './SfM_quality_evaluation/Benchmarking_Camera_Calibration_2008/fountain-P11/images/0008.jpg']\n"
     ]
    }
   ],
   "source": [
    "all_img_paths = list()\n",
    "\n",
    "for subset in subset_names:\n",
    "    pattern_for_subset_images = \"/\".join(\n",
    "        [BASE_DATA_PATH, subset, \"images\", file_ext_pattern]\n",
    "    )\n",
    "    all_img_paths.extend(glob.glob(pattern_for_subset_images))\n",
    "\n",
    "print(all_img_paths)"
   ]
  },
  {
   "cell_type": "markdown",
   "metadata": {},
   "source": [
    "Sweet. Lastly, we can load all these images into memory for further processing:"
   ]
  },
  {
   "cell_type": "code",
   "execution_count": null,
   "metadata": {},
   "outputs": [],
   "source": [
    "from util import ops"
   ]
  },
  {
   "cell_type": "code",
   "execution_count": null,
   "metadata": {},
   "outputs": [],
   "source": [
    "all_img_arrays = "
   ]
  }
 ],
 "metadata": {
  "kernelspec": {
   "display_name": "env-558",
   "language": "python",
   "name": "env-558"
  },
  "language_info": {
   "codemirror_mode": {
    "name": "ipython",
    "version": 3
   },
   "file_extension": ".py",
   "mimetype": "text/x-python",
   "name": "python",
   "nbconvert_exporter": "python",
   "pygments_lexer": "ipython3",
   "version": "3.9.7"
  }
 },
 "nbformat": 4,
 "nbformat_minor": 2
}
